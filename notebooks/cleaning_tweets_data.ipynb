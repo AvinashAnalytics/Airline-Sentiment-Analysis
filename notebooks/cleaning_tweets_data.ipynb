{
 "cells": [
  {
   "cell_type": "markdown",
   "metadata": {},
   "source": [
    "\n",
    "#  Airline Sentiment Data Cleaning\n",
    " **Dataset**: `Tweets.csv`  \n",
    "**Goal**: Clean the dataset for sentiment analysis and EDA.\n",
    "\n"
   ]
  },
  {
   "cell_type": "code",
   "execution_count": 1,
   "metadata": {},
   "outputs": [],
   "source": [
    "import pandas as pd\n",
    "import numpy as np\n",
    "import matplotlib.pyplot as plt\n",
    "import seaborn as sns\n",
    "import re\n",
    "from vaderSentiment.vaderSentiment import SentimentIntensityAnalyzer"
   ]
  },
  {
   "cell_type": "markdown",
   "metadata": {},
   "source": [
    "## 2. Load Data"
   ]
  },
  {
   "cell_type": "code",
   "execution_count": 2,
   "metadata": {},
   "outputs": [],
   "source": [
    "# Load the dataset\n",
    "df = pd.read_csv(\"Tweets.csv\")\n"
   ]
  },
  {
   "cell_type": "code",
   "execution_count": 3,
   "metadata": {},
   "outputs": [
    {
     "name": "stdout",
     "output_type": "stream",
     "text": [
      "Shape: (14640, 15)\n",
      "\n",
      "Columns: ['tweet_id', 'airline_sentiment', 'airline_sentiment_confidence', 'negativereason', 'negativereason_confidence', 'airline', 'airline_sentiment_gold', 'name', 'negativereason_gold', 'retweet_count', 'text', 'tweet_coord', 'tweet_created', 'tweet_location', 'user_timezone']\n",
      "\n",
      "Missing Values:\n",
      " tweet_id                            0\n",
      "airline_sentiment                   0\n",
      "airline_sentiment_confidence        0\n",
      "negativereason                   5462\n",
      "negativereason_confidence        4118\n",
      "airline                             0\n",
      "airline_sentiment_gold          14600\n",
      "name                                0\n",
      "negativereason_gold             14608\n",
      "retweet_count                       0\n",
      "text                                0\n",
      "tweet_coord                     13621\n",
      "tweet_created                       0\n",
      "tweet_location                   4733\n",
      "user_timezone                    4820\n",
      "dtype: int64\n"
     ]
    }
   ],
   "source": [
    "# Initial inspection\n",
    "print(\"Shape:\", df.shape)\n",
    "print(\"\\nColumns:\", df.columns.tolist())\n",
    "print(\"\\nMissing Values:\\n\", df.isnull().sum())"
   ]
  },
  {
   "cell_type": "markdown",
   "metadata": {},
   "source": [
    "### 3. Drop Unnecessary Columns"
   ]
  },
  {
   "cell_type": "code",
   "execution_count": 4,
   "metadata": {},
   "outputs": [
    {
     "name": "stdout",
     "output_type": "stream",
     "text": [
      "Columns after removal: ['tweet_id', 'airline_sentiment', 'airline_sentiment_confidence', 'negativereason', 'negativereason_confidence', 'airline', 'name', 'retweet_count', 'text', 'tweet_created', 'tweet_location', 'user_timezone']\n"
     ]
    }
   ],
   "source": [
    "# Remove columns with >90% missing data or no analytical value\n",
    "df = df.drop(columns=['airline_sentiment_gold', 'negativereason_gold', 'tweet_coord'])\n",
    "\n",
    "# Verify\n",
    "print(\"Columns after removal:\", df.columns.tolist())"
   ]
  },
  {
   "cell_type": "markdown",
   "metadata": {},
   "source": [
    "### 4. Handle Missing Values"
   ]
  },
  {
   "cell_type": "code",
   "execution_count": 5,
   "metadata": {},
   "outputs": [
    {
     "name": "stdout",
     "output_type": "stream",
     "text": [
      "\n",
      "Missing Values After Cleaning:\n",
      " tweet_id                        0\n",
      "airline_sentiment               0\n",
      "airline_sentiment_confidence    0\n",
      "negativereason                  0\n",
      "negativereason_confidence       0\n",
      "airline                         0\n",
      "name                            0\n",
      "retweet_count                   0\n",
      "text                            0\n",
      "tweet_created                   0\n",
      "tweet_location                  0\n",
      "user_timezone                   0\n",
      "dtype: int64\n"
     ]
    }
   ],
   "source": [
    "# Fill missing categorical values\n",
    "df['negativereason'] = df['negativereason'].fillna('Not Specified')\n",
    "df['tweet_location'] = df['tweet_location'].fillna('Unknown')\n",
    "df['user_timezone'] = df['user_timezone'].fillna('Unknown')\n",
    "\n",
    "# Fill missing numerical values (negativereason_confidence)\n",
    "df['negativereason_confidence'] = df['negativereason_confidence'].fillna(0)\n",
    "\n",
    "# Verify\n",
    "print(\"\\nMissing Values After Cleaning:\\n\", df.isnull().sum())\n"
   ]
  },
  {
   "cell_type": "markdown",
   "metadata": {},
   "source": [
    "### 5. Clean Text Data"
   ]
  },
  {
   "cell_type": "code",
   "execution_count": 6,
   "metadata": {},
   "outputs": [
    {
     "name": "stdout",
     "output_type": "stream",
     "text": [
      "\n",
      "Sample Cleaned Text:\n",
      "                                                text  \\\n",
      "0                @VirginAmerica What @dhepburn said.   \n",
      "1  @VirginAmerica plus you've added commercials t...   \n",
      "\n",
      "                                          clean_text  \n",
      "0                                         What  said  \n",
      "1  plus youve added commercials to the experience...  \n"
     ]
    }
   ],
   "source": [
    "def clean_text(text):\n",
    "    # Remove mentions (@user), URLs, and special characters\n",
    "    text = re.sub(r'@\\w+', '', text)\n",
    "    text = re.sub(r'https?://\\S+', '', text)\n",
    "    text = re.sub(r'[^\\w\\s]', '', text)\n",
    "    return text.strip()\n",
    "\n",
    "# Apply cleaning\n",
    "df['clean_text'] = df['text'].apply(clean_text)\n",
    "\n",
    "# Verify\n",
    "print(\"\\nSample Cleaned Text:\")\n",
    "print(df[['text', 'clean_text']].head(2))\n"
   ]
  },
  {
   "cell_type": "markdown",
   "metadata": {},
   "source": [
    "### 6. Fix Timestamps"
   ]
  },
  {
   "cell_type": "code",
   "execution_count": 7,
   "metadata": {},
   "outputs": [
    {
     "name": "stdout",
     "output_type": "stream",
     "text": [
      "\n",
      "Time Features:\n",
      "              tweet_created  hour day_of_week\n",
      "0 2015-02-24 11:35:52-08:00    11     Tuesday\n",
      "1 2015-02-24 11:15:59-08:00    11     Tuesday\n"
     ]
    }
   ],
   "source": [
    "# Convert to datetime\n",
    "df['tweet_created'] = pd.to_datetime(df['tweet_created'], format='ISO8601')\n",
    "\n",
    "# Extract time features\n",
    "df['hour'] = df['tweet_created'].dt.hour\n",
    "df['day_of_week'] = df['tweet_created'].dt.day_name()\n",
    "\n",
    "# Verify\n",
    "print(\"\\nTime Features:\")\n",
    "print(df[['tweet_created', 'hour', 'day_of_week']].head(2))"
   ]
  },
  {
   "cell_type": "markdown",
   "metadata": {},
   "source": [
    "### 7. Add VADER Sentiment Scores"
   ]
  },
  {
   "cell_type": "code",
   "execution_count": 12,
   "metadata": {},
   "outputs": [
    {
     "name": "stdout",
     "output_type": "stream",
     "text": [
      "\n",
      "VADER Sentiment Sample:\n",
      "                                          clean_text vader_sentiment\n",
      "0                                         What  said         neutral\n",
      "1  plus youve added commercials to the experience...         neutral\n",
      "2  I didnt today Must mean I need to take another...         neutral\n",
      "3  its really aggressive to blast obnoxious enter...        negative\n",
      "4            and its a really big bad thing about it        negative\n"
     ]
    }
   ],
   "source": [
    "# Initialize sentiment analyzer\n",
    "analyzer = SentimentIntensityAnalyzer()\n",
    "\n",
    "# Add scores\n",
    "df['vader_score'] = df['clean_text'].apply(lambda x: analyzer.polarity_scores(x)['compound'])\n",
    "df['vader_sentiment'] = df['vader_score'].apply(\n",
    "    lambda x: 'positive' if x >= 0.05 else 'negative' if x <= -0.05 else 'neutral'\n",
    ")\n",
    "\n",
    "# Verify\n",
    "print(\"\\nVADER Sentiment Sample:\")\n",
    "print(df[['clean_text', 'vader_sentiment']].head(5))"
   ]
  },
  {
   "cell_type": "markdown",
   "metadata": {},
   "source": [
    "### 8. Save Cleaned Data"
   ]
  },
  {
   "cell_type": "code",
   "execution_count": 15,
   "metadata": {},
   "outputs": [
    {
     "name": "stdout",
     "output_type": "stream",
     "text": [
      "Cleaned dataset saved as 'Cleaned_Tweets1.csv'.\n"
     ]
    }
   ],
   "source": [
    "# Save to a new CSV file\n",
    "df.to_csv(\"Cleaned_Tweets.csv\", index=False)\n",
    "print(\"Cleaned dataset saved as 'Cleaned_Tweets1.csv'.\")"
   ]
  },
  {
   "cell_type": "code",
   "execution_count": 1,
   "metadata": {},
   "outputs": [
    {
     "name": "stdout",
     "output_type": "stream",
     "text": [
      "Requirement already satisfied: vaderSentiment in d:\\anaconda3\\lib\\site-packages (3.3.2)\n",
      "Requirement already satisfied: requests in d:\\anaconda3\\lib\\site-packages (from vaderSentiment) (2.31.0)\n",
      "Requirement already satisfied: charset-normalizer<4,>=2 in d:\\anaconda3\\lib\\site-packages (from requests->vaderSentiment) (2.0.4)\n",
      "Requirement already satisfied: idna<4,>=2.5 in d:\\anaconda3\\lib\\site-packages (from requests->vaderSentiment) (3.4)\n",
      "Requirement already satisfied: urllib3<3,>=1.21.1 in d:\\anaconda3\\lib\\site-packages (from requests->vaderSentiment) (2.0.7)\n",
      "Requirement already satisfied: certifi>=2017.4.17 in d:\\anaconda3\\lib\\site-packages (from requests->vaderSentiment) (2024.12.14)\n",
      "Shape: (14640, 15)\n",
      "\n",
      "Columns: ['tweet_id', 'airline_sentiment', 'airline_sentiment_confidence', 'negativereason', 'negativereason_confidence', 'airline', 'airline_sentiment_gold', 'name', 'negativereason_gold', 'retweet_count', 'text', 'tweet_coord', 'tweet_created', 'tweet_location', 'user_timezone']\n",
      "\n",
      "Missing Values:\n",
      " tweet_id                            0\n",
      "airline_sentiment                   0\n",
      "airline_sentiment_confidence        0\n",
      "negativereason                   5462\n",
      "negativereason_confidence        4118\n",
      "airline                             0\n",
      "airline_sentiment_gold          14600\n",
      "name                                0\n",
      "negativereason_gold             14608\n",
      "retweet_count                       0\n",
      "text                                0\n",
      "tweet_coord                     13621\n",
      "tweet_created                       0\n",
      "tweet_location                   4733\n",
      "user_timezone                    4820\n",
      "dtype: int64\n",
      "Columns after removal: ['tweet_id', 'airline_sentiment', 'airline_sentiment_confidence', 'negativereason', 'negativereason_confidence', 'airline', 'name', 'retweet_count', 'text', 'tweet_created', 'tweet_location', 'user_timezone']\n",
      "\n",
      "Missing Values After Cleaning:\n",
      " tweet_id                        0\n",
      "airline_sentiment               0\n",
      "airline_sentiment_confidence    0\n",
      "negativereason                  0\n",
      "negativereason_confidence       0\n",
      "airline                         0\n",
      "name                            0\n",
      "retweet_count                   0\n",
      "text                            0\n",
      "tweet_created                   0\n",
      "tweet_location                  0\n",
      "user_timezone                   0\n",
      "dtype: int64\n",
      "\n",
      "Sample Cleaned Text:\n",
      "                                                text  \\\n",
      "0                @VirginAmerica What @dhepburn said.   \n",
      "1  @VirginAmerica plus you've added commercials t...   \n",
      "\n",
      "                                          clean_text  \n",
      "0                                         What  said  \n",
      "1  plus youve added commercials to the experience...  \n",
      "\n",
      "Time Features:\n",
      "              tweet_created  hour day_of_week\n",
      "0 2015-02-24 11:35:52-08:00    11     Tuesday\n",
      "1 2015-02-24 11:15:59-08:00    11     Tuesday\n",
      "\n",
      "VADER Sentiment Sample:\n",
      "                                          clean_text vader_sentiment\n",
      "0                                         What  said         neutral\n",
      "1  plus youve added commercials to the experience...         neutral\n",
      "Cleaned dataset saved as 'Cleaned_Tweets.csv'.\n"
     ]
    },
    {
     "data": {
      "image/png": "[encoded data removed]",
      "text/plain": [
       "<Figure size 1000x600 with 1 Axes>"
      ]
     },
     "metadata": {},
     "output_type": "display_data"
    },
    {
     "data": {
      "image/png": "[encoded data removed]",
      "text/plain": [
       "<Figure size 1000x600 with 1 Axes>"
      ]
     },
     "metadata": {},
     "output_type": "display_data"
    }
   ],
   "source": [
    "\n",
    "\n",
    "\n",
    "\n",
    "\n",
    "\n",
    "\n",
    "\n",
    "\n",
    "# %% [markdown]\n",
    "# ## \n",
    "\n",
    "# %% \n",
    "\n",
    "\n",
    "# %% [markdown]\n",
    "# ## 9. Visualizations (Optional)\n",
    "\n",
    "# %% \n",
    "# Sentiment distribution\n",
    "plt.figure(figsize=(10, 6))\n",
    "sns.countplot(\n",
    "    x='airline_sentiment', \n",
    "    data=df, \n",
    "    order=['negative', 'neutral', 'positive'],\n",
    "    palette=['#ff6b6b', '#4ecdc4', '#45b7d1']\n",
    ")\n",
    "plt.title(\"Distribution of Sentiment Labels\")\n",
    "plt.show()\n",
    "\n",
    "# %% \n",
    "# Top 5 complaints\n",
    "negative_df = df[df['airline_sentiment'] == 'negative']\n",
    "top_complaints = negative_df['negativereason'].value_counts().head(5)\n",
    "\n",
    "plt.figure(figsize=(10, 6))\n",
    "top_complaints.plot(kind='barh', color=['#ff6b6b', '#ff8e8e', '#ffaaaa', '#ffc4c4', '#ffe1e1'])\n",
    "plt.gca().invert_yaxis()\n",
    "plt.title(\"Top 5 Reasons for Negative Sentiment\")\n",
    "plt.xlabel(\"Count\")\n",
    "plt.ylabel(\"Complaint Type\")\n",
    "plt.show()\n"
   ]
  }
 ],
 "metadata": {
  "kernelspec": {
   "display_name": "base",
   "language": "python",
   "name": "python3"
  },
  "language_info": {
   "codemirror_mode": {
    "name": "ipython",
    "version": 3
   },
   "file_extension": ".py",
   "mimetype": "text/x-python",
   "name": "python",
   "nbconvert_exporter": "python",
   "pygments_lexer": "ipython3",
   "version": "3.11.7"
  }
 },
 "nbformat": 4,
 "nbformat_minor": 2
}
